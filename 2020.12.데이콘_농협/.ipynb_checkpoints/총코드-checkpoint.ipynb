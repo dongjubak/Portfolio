{
 "cells": [
  {
   "cell_type": "markdown",
   "metadata": {},
   "source": [
    "# 1. 사용할 모듈을 불러옵니다."
   ]
  },
  {
   "cell_type": "code",
   "execution_count": 37,
   "metadata": {},
   "outputs": [],
   "source": [
    "import numpy as np\n",
    "import pandas as pd\n",
    "import matplotlib.pyplot as plt\n",
    "%matplotlib inline\n",
    "from konlpy.tag import Okt\n",
    "from tensorflow.keras.preprocessing.text import Tokenizer\n",
    "from tensorflow.keras.preprocessing.sequence import pad_sequences\n",
    "import warnings\n",
    "warnings.filterwarnings(action='ignore')"
   ]
  },
  {
   "cell_type": "markdown",
   "metadata": {},
   "source": [
    "# 2. 사용할 데이터를 불러옵니다."
   ]
  },
  {
   "cell_type": "code",
   "execution_count": 2,
   "metadata": {},
   "outputs": [],
   "source": [
    "train_data = pd.read_csv('D:/Programming/2020.12.데이콘_농협/동글동글/1.Data/news_train.csv', sep=',', encoding='utf-8')\n",
    "test_data = pd.read_csv('D:/Programming/2020.12.데이콘_농협/동글동글/1.Data/news_test.csv', sep=',', encoding='utf-8')"
   ]
  },
  {
   "cell_type": "code",
   "execution_count": 3,
   "metadata": {},
   "outputs": [
    {
     "data": {
      "text/html": [
       "<div>\n",
       "<style scoped>\n",
       "    .dataframe tbody tr th:only-of-type {\n",
       "        vertical-align: middle;\n",
       "    }\n",
       "\n",
       "    .dataframe tbody tr th {\n",
       "        vertical-align: top;\n",
       "    }\n",
       "\n",
       "    .dataframe thead th {\n",
       "        text-align: right;\n",
       "    }\n",
       "</style>\n",
       "<table border=\"1\" class=\"dataframe\">\n",
       "  <thead>\n",
       "    <tr style=\"text-align: right;\">\n",
       "      <th></th>\n",
       "      <th>n_id</th>\n",
       "      <th>date</th>\n",
       "      <th>title</th>\n",
       "      <th>content</th>\n",
       "      <th>ord</th>\n",
       "      <th>info</th>\n",
       "    </tr>\n",
       "  </thead>\n",
       "  <tbody>\n",
       "    <tr>\n",
       "      <th>0</th>\n",
       "      <td>NEWS02580</td>\n",
       "      <td>20200605</td>\n",
       "      <td>[마감]코스닥 기관 678억 순매도</td>\n",
       "      <td>[이데일리 MARKETPOINT]15:32 현재 코스닥 기관 678억 순매도</td>\n",
       "      <td>1</td>\n",
       "      <td>0</td>\n",
       "    </tr>\n",
       "    <tr>\n",
       "      <th>1</th>\n",
       "      <td>NEWS02580</td>\n",
       "      <td>20200605</td>\n",
       "      <td>[마감]코스닥 기관 678억 순매도</td>\n",
       "      <td>\"실적기반\" 저가에 매집해야 할 8월 급등유망주 TOP 5 전격공개</td>\n",
       "      <td>2</td>\n",
       "      <td>1</td>\n",
       "    </tr>\n",
       "    <tr>\n",
       "      <th>2</th>\n",
       "      <td>NEWS02580</td>\n",
       "      <td>20200605</td>\n",
       "      <td>[마감]코스닥 기관 678억 순매도</td>\n",
       "      <td>하이스탁론, 선취수수료 없는 월 0.4% 최저금리 상품 출시</td>\n",
       "      <td>3</td>\n",
       "      <td>1</td>\n",
       "    </tr>\n",
       "    <tr>\n",
       "      <th>3</th>\n",
       "      <td>NEWS02580</td>\n",
       "      <td>20200605</td>\n",
       "      <td>[마감]코스닥 기관 678억 순매도</td>\n",
       "      <td>종합 경제정보 미디어 이데일리 - 무단전재 &amp; 재배포 금지</td>\n",
       "      <td>4</td>\n",
       "      <td>0</td>\n",
       "    </tr>\n",
       "    <tr>\n",
       "      <th>4</th>\n",
       "      <td>NEWS09727</td>\n",
       "      <td>20200626</td>\n",
       "      <td>롯데·공영 등 7개 TV 홈쇼핑들, 동행세일 동참</td>\n",
       "      <td>전국적인 소비 붐 조성에 기여할 예정</td>\n",
       "      <td>1</td>\n",
       "      <td>0</td>\n",
       "    </tr>\n",
       "    <tr>\n",
       "      <th>...</th>\n",
       "      <td>...</td>\n",
       "      <td>...</td>\n",
       "      <td>...</td>\n",
       "      <td>...</td>\n",
       "      <td>...</td>\n",
       "      <td>...</td>\n",
       "    </tr>\n",
       "    <tr>\n",
       "      <th>118740</th>\n",
       "      <td>NEWS01333</td>\n",
       "      <td>20200117</td>\n",
       "      <td>모나리자, 중원 지분 16.88% 양수 결정</td>\n",
       "      <td>미 FDA 임상3상 허가 임박. 묻고 따블로 갈 바이오 황제주.</td>\n",
       "      <td>48</td>\n",
       "      <td>1</td>\n",
       "    </tr>\n",
       "    <tr>\n",
       "      <th>118741</th>\n",
       "      <td>NEWS01333</td>\n",
       "      <td>20200117</td>\n",
       "      <td>모나리자, 중원 지분 16.88% 양수 결정</td>\n",
       "      <td>똑똑해진 소비자..한국도 이젠 소형차 시대</td>\n",
       "      <td>49</td>\n",
       "      <td>1</td>\n",
       "    </tr>\n",
       "    <tr>\n",
       "      <th>118742</th>\n",
       "      <td>NEWS01333</td>\n",
       "      <td>20200117</td>\n",
       "      <td>모나리자, 중원 지분 16.88% 양수 결정</td>\n",
       "      <td>똑똑해진 소비자..한국도 이젠 소형차 시대</td>\n",
       "      <td>50</td>\n",
       "      <td>1</td>\n",
       "    </tr>\n",
       "    <tr>\n",
       "      <th>118743</th>\n",
       "      <td>NEWS01333</td>\n",
       "      <td>20200117</td>\n",
       "      <td>모나리자, 중원 지분 16.88% 양수 결정</td>\n",
       "      <td>2020년 한국 TV 2대중 1대 인터넷 연결된다</td>\n",
       "      <td>51</td>\n",
       "      <td>1</td>\n",
       "    </tr>\n",
       "    <tr>\n",
       "      <th>118744</th>\n",
       "      <td>NEWS01333</td>\n",
       "      <td>20200117</td>\n",
       "      <td>모나리자, 중원 지분 16.88% 양수 결정</td>\n",
       "      <td>2020년 한국 TV 2대중 1대 인터넷 연결된다</td>\n",
       "      <td>52</td>\n",
       "      <td>1</td>\n",
       "    </tr>\n",
       "  </tbody>\n",
       "</table>\n",
       "<p>118745 rows × 6 columns</p>\n",
       "</div>"
      ],
      "text/plain": [
       "             n_id      date                        title  \\\n",
       "0       NEWS02580  20200605          [마감]코스닥 기관 678억 순매도   \n",
       "1       NEWS02580  20200605          [마감]코스닥 기관 678억 순매도   \n",
       "2       NEWS02580  20200605          [마감]코스닥 기관 678억 순매도   \n",
       "3       NEWS02580  20200605          [마감]코스닥 기관 678억 순매도   \n",
       "4       NEWS09727  20200626  롯데·공영 등 7개 TV 홈쇼핑들, 동행세일 동참   \n",
       "...           ...       ...                          ...   \n",
       "118740  NEWS01333  20200117     모나리자, 중원 지분 16.88% 양수 결정   \n",
       "118741  NEWS01333  20200117     모나리자, 중원 지분 16.88% 양수 결정   \n",
       "118742  NEWS01333  20200117     모나리자, 중원 지분 16.88% 양수 결정   \n",
       "118743  NEWS01333  20200117     모나리자, 중원 지분 16.88% 양수 결정   \n",
       "118744  NEWS01333  20200117     모나리자, 중원 지분 16.88% 양수 결정   \n",
       "\n",
       "                                           content  ord  info  \n",
       "0       [이데일리 MARKETPOINT]15:32 현재 코스닥 기관 678억 순매도    1     0  \n",
       "1            \"실적기반\" 저가에 매집해야 할 8월 급등유망주 TOP 5 전격공개    2     1  \n",
       "2                하이스탁론, 선취수수료 없는 월 0.4% 최저금리 상품 출시    3     1  \n",
       "3                 종합 경제정보 미디어 이데일리 - 무단전재 & 재배포 금지    4     0  \n",
       "4                             전국적인 소비 붐 조성에 기여할 예정    1     0  \n",
       "...                                            ...  ...   ...  \n",
       "118740         미 FDA 임상3상 허가 임박. 묻고 따블로 갈 바이오 황제주.   48     1  \n",
       "118741                     똑똑해진 소비자..한국도 이젠 소형차 시대   49     1  \n",
       "118742                     똑똑해진 소비자..한국도 이젠 소형차 시대   50     1  \n",
       "118743                 2020년 한국 TV 2대중 1대 인터넷 연결된다   51     1  \n",
       "118744                 2020년 한국 TV 2대중 1대 인터넷 연결된다   52     1  \n",
       "\n",
       "[118745 rows x 6 columns]"
      ]
     },
     "execution_count": 3,
     "metadata": {},
     "output_type": "execute_result"
    }
   ],
   "source": [
    "train_data"
   ]
  },
  {
   "cell_type": "code",
   "execution_count": 4,
   "metadata": {},
   "outputs": [
    {
     "data": {
      "text/html": [
       "<div>\n",
       "<style scoped>\n",
       "    .dataframe tbody tr th:only-of-type {\n",
       "        vertical-align: middle;\n",
       "    }\n",
       "\n",
       "    .dataframe tbody tr th {\n",
       "        vertical-align: top;\n",
       "    }\n",
       "\n",
       "    .dataframe thead th {\n",
       "        text-align: right;\n",
       "    }\n",
       "</style>\n",
       "<table border=\"1\" class=\"dataframe\">\n",
       "  <thead>\n",
       "    <tr style=\"text-align: right;\">\n",
       "      <th></th>\n",
       "      <th>n_id</th>\n",
       "      <th>date</th>\n",
       "      <th>title</th>\n",
       "      <th>content</th>\n",
       "      <th>ord</th>\n",
       "      <th>id</th>\n",
       "    </tr>\n",
       "  </thead>\n",
       "  <tbody>\n",
       "    <tr>\n",
       "      <th>0</th>\n",
       "      <td>NEWS00237</td>\n",
       "      <td>20200118</td>\n",
       "      <td>[주목!e스몰캡]코세스, 마이크로LED 시장 개화 최대수혜 기대</td>\n",
       "      <td>마이크로 LED TV 장비 양산 돌입- 전방업체 투자 확대로 본업도 호조연일 '신고가'</td>\n",
       "      <td>1</td>\n",
       "      <td>NEWS00237_1</td>\n",
       "    </tr>\n",
       "    <tr>\n",
       "      <th>1</th>\n",
       "      <td>NEWS00237</td>\n",
       "      <td>20200118</td>\n",
       "      <td>[주목!e스몰캡]코세스, 마이크로LED 시장 개화 최대수혜 기대</td>\n",
       "      <td>[이데일리 김대웅 기자] 반도체 장비 업체 코세스(089890)의 기술력이 마이크로...</td>\n",
       "      <td>2</td>\n",
       "      <td>NEWS00237_2</td>\n",
       "    </tr>\n",
       "    <tr>\n",
       "      <th>2</th>\n",
       "      <td>NEWS00237</td>\n",
       "      <td>20200118</td>\n",
       "      <td>[주목!e스몰캡]코세스, 마이크로LED 시장 개화 최대수혜 기대</td>\n",
       "      <td>최근 대형 업체들과 거래를 맺고 관련 장비들의 양산에 돌입하면서 주가도 연일 신고가...</td>\n",
       "      <td>3</td>\n",
       "      <td>NEWS00237_3</td>\n",
       "    </tr>\n",
       "    <tr>\n",
       "      <th>3</th>\n",
       "      <td>NEWS00237</td>\n",
       "      <td>20200118</td>\n",
       "      <td>[주목!e스몰캡]코세스, 마이크로LED 시장 개화 최대수혜 기대</td>\n",
       "      <td>TV를 필두로 올해부터 마이크로 LED의 시대가 본격적으로 개화할 것으로 예상되면서...</td>\n",
       "      <td>4</td>\n",
       "      <td>NEWS00237_4</td>\n",
       "    </tr>\n",
       "    <tr>\n",
       "      <th>4</th>\n",
       "      <td>NEWS00237</td>\n",
       "      <td>20200118</td>\n",
       "      <td>[주목!e스몰캡]코세스, 마이크로LED 시장 개화 최대수혜 기대</td>\n",
       "      <td>코세스는 반도체 장비를 제조, 판매하는 업체로 지난 2006년 11월 코스닥 시장에...</td>\n",
       "      <td>5</td>\n",
       "      <td>NEWS00237_5</td>\n",
       "    </tr>\n",
       "    <tr>\n",
       "      <th>...</th>\n",
       "      <td>...</td>\n",
       "      <td>...</td>\n",
       "      <td>...</td>\n",
       "      <td>...</td>\n",
       "      <td>...</td>\n",
       "      <td>...</td>\n",
       "    </tr>\n",
       "    <tr>\n",
       "      <th>142560</th>\n",
       "      <td>NEWS09482</td>\n",
       "      <td>20200521</td>\n",
       "      <td>아미코젠, 52주 신고가</td>\n",
       "      <td>주식시장의 역사를 다시 쓸 역대급 종목. 목표 1700% 이상.</td>\n",
       "      <td>72</td>\n",
       "      <td>NEWS09482_72</td>\n",
       "    </tr>\n",
       "    <tr>\n",
       "      <th>142561</th>\n",
       "      <td>NEWS09482</td>\n",
       "      <td>20200521</td>\n",
       "      <td>아미코젠, 52주 신고가</td>\n",
       "      <td>똑똑해진 소비자..한국도 이젠 소형차 시대</td>\n",
       "      <td>73</td>\n",
       "      <td>NEWS09482_73</td>\n",
       "    </tr>\n",
       "    <tr>\n",
       "      <th>142562</th>\n",
       "      <td>NEWS09482</td>\n",
       "      <td>20200521</td>\n",
       "      <td>아미코젠, 52주 신고가</td>\n",
       "      <td>똑똑해진 소비자..한국도 이젠 소형차 시대</td>\n",
       "      <td>74</td>\n",
       "      <td>NEWS09482_74</td>\n",
       "    </tr>\n",
       "    <tr>\n",
       "      <th>142563</th>\n",
       "      <td>NEWS09482</td>\n",
       "      <td>20200521</td>\n",
       "      <td>아미코젠, 52주 신고가</td>\n",
       "      <td>2020년 한국 TV 2대중 1대 인터넷 연결된다</td>\n",
       "      <td>75</td>\n",
       "      <td>NEWS09482_75</td>\n",
       "    </tr>\n",
       "    <tr>\n",
       "      <th>142564</th>\n",
       "      <td>NEWS09482</td>\n",
       "      <td>20200521</td>\n",
       "      <td>아미코젠, 52주 신고가</td>\n",
       "      <td>2020년 한국 TV 2대중 1대 인터넷 연결된다</td>\n",
       "      <td>76</td>\n",
       "      <td>NEWS09482_76</td>\n",
       "    </tr>\n",
       "  </tbody>\n",
       "</table>\n",
       "<p>142565 rows × 6 columns</p>\n",
       "</div>"
      ],
      "text/plain": [
       "             n_id      date                                title  \\\n",
       "0       NEWS00237  20200118  [주목!e스몰캡]코세스, 마이크로LED 시장 개화 최대수혜 기대   \n",
       "1       NEWS00237  20200118  [주목!e스몰캡]코세스, 마이크로LED 시장 개화 최대수혜 기대   \n",
       "2       NEWS00237  20200118  [주목!e스몰캡]코세스, 마이크로LED 시장 개화 최대수혜 기대   \n",
       "3       NEWS00237  20200118  [주목!e스몰캡]코세스, 마이크로LED 시장 개화 최대수혜 기대   \n",
       "4       NEWS00237  20200118  [주목!e스몰캡]코세스, 마이크로LED 시장 개화 최대수혜 기대   \n",
       "...           ...       ...                                  ...   \n",
       "142560  NEWS09482  20200521                        아미코젠, 52주 신고가   \n",
       "142561  NEWS09482  20200521                        아미코젠, 52주 신고가   \n",
       "142562  NEWS09482  20200521                        아미코젠, 52주 신고가   \n",
       "142563  NEWS09482  20200521                        아미코젠, 52주 신고가   \n",
       "142564  NEWS09482  20200521                        아미코젠, 52주 신고가   \n",
       "\n",
       "                                                  content  ord            id  \n",
       "0        마이크로 LED TV 장비 양산 돌입- 전방업체 투자 확대로 본업도 호조연일 '신고가'    1   NEWS00237_1  \n",
       "1       [이데일리 김대웅 기자] 반도체 장비 업체 코세스(089890)의 기술력이 마이크로...    2   NEWS00237_2  \n",
       "2       최근 대형 업체들과 거래를 맺고 관련 장비들의 양산에 돌입하면서 주가도 연일 신고가...    3   NEWS00237_3  \n",
       "3       TV를 필두로 올해부터 마이크로 LED의 시대가 본격적으로 개화할 것으로 예상되면서...    4   NEWS00237_4  \n",
       "4       코세스는 반도체 장비를 제조, 판매하는 업체로 지난 2006년 11월 코스닥 시장에...    5   NEWS00237_5  \n",
       "...                                                   ...  ...           ...  \n",
       "142560                주식시장의 역사를 다시 쓸 역대급 종목. 목표 1700% 이상.   72  NEWS09482_72  \n",
       "142561                            똑똑해진 소비자..한국도 이젠 소형차 시대   73  NEWS09482_73  \n",
       "142562                            똑똑해진 소비자..한국도 이젠 소형차 시대   74  NEWS09482_74  \n",
       "142563                        2020년 한국 TV 2대중 1대 인터넷 연결된다   75  NEWS09482_75  \n",
       "142564                        2020년 한국 TV 2대중 1대 인터넷 연결된다   76  NEWS09482_76  \n",
       "\n",
       "[142565 rows x 6 columns]"
      ]
     },
     "execution_count": 4,
     "metadata": {},
     "output_type": "execute_result"
    }
   ],
   "source": [
    "test_data"
   ]
  },
  {
   "cell_type": "markdown",
   "metadata": {},
   "source": [
    "# 3. 데이터 탐색"
   ]
  },
  {
   "cell_type": "code",
   "execution_count": 5,
   "metadata": {},
   "outputs": [
    {
     "name": "stdout",
     "output_type": "stream",
     "text": [
      "훈련용 기사 개수 : 118745\n",
      "테스트용 기사 개수 : 142565\n",
      "훈련용 기사 중복값 개수 : 0\n",
      "테스트용 기사 중복값 개수 : 0\n",
      "훈련용 기사 null값 개수 : n_id       0\n",
      "date       0\n",
      "title      0\n",
      "content    0\n",
      "ord        0\n",
      "info       0\n",
      "dtype: int64\n",
      "테스트용 기사 null값 개수 : n_id       0\n",
      "date       0\n",
      "title      0\n",
      "content    0\n",
      "ord        0\n",
      "id         0\n",
      "dtype: int64\n"
     ]
    }
   ],
   "source": [
    "print('훈련용 기사 개수 :', len(train_data))\n",
    "print('테스트용 기사 개수 :', len(test_data))\n",
    "\n",
    "print('훈련용 기사 중복값 개수 :', train_data.duplicated().sum())\n",
    "print('테스트용 기사 중복값 개수 :', test_data.duplicated().sum())\n",
    "\n",
    "print('훈련용 기사 null값 개수 :', train_data.isnull().sum())\n",
    "print('테스트용 기사 null값 개수 :', test_data.isnull().sum())\n",
    "\n",
    "# 중복값과 null값을 확인해줍니다."
   ]
  },
  {
   "cell_type": "code",
   "execution_count": 6,
   "metadata": {},
   "outputs": [
    {
     "name": "stdout",
     "output_type": "stream",
     "text": [
      "3626 46161 2\n",
      "5075 65827\n"
     ]
    }
   ],
   "source": [
    "print(train_data['title'].nunique(), train_data['content'].nunique(), train_data['info'].nunique())\n",
    "print(test_data['title'].nunique(), test_data['content'].nunique())\n",
    "\n",
    "# 기사 제목과 내용은 중복된게 상당히 많고. 라벨값은 0/1 둘 중 하나로 이상없습니다."
   ]
  },
  {
   "cell_type": "code",
   "execution_count": 7,
   "metadata": {},
   "outputs": [
    {
     "name": "stdout",
     "output_type": "stream",
     "text": [
      "   info  count\n",
      "0     0  71813\n",
      "1     1  46932\n"
     ]
    },
    {
     "data": {
      "text/plain": [
       "<AxesSubplot:>"
      ]
     },
     "execution_count": 7,
     "metadata": {},
     "output_type": "execute_result"
    },
    {
     "data": {
      "image/png": "[encoded data removed]",
      "text/plain": [
       "<Figure size 432x288 with 1 Axes>"
      ]
     },
     "metadata": {
      "needs_background": "light"
     },
     "output_type": "display_data"
    }
   ],
   "source": [
    "print(train_data.groupby('info').size().reset_index(name = 'count'))\n",
    "train_data['info'].value_counts().plot(kind = 'bar')\n",
    "\n",
    "# 진짜/가짜뉴스 라벨 값 분포를 확인합니다."
   ]
  },
  {
   "cell_type": "markdown",
   "metadata": {},
   "source": [
    "# 4. 자연어처리"
   ]
  },
  {
   "cell_type": "code",
   "execution_count": 8,
   "metadata": {},
   "outputs": [],
   "source": [
    "# (1).\n",
    "# content가 주가 된다고 생각하여 content를 처리하였습니다.\n",
    "# 후에 title 도 처리하여 같이 학습하여 결과를 내봤으나 정확도가 좋지못하여\n",
    "# 최종적으로, content만 처리하여 사용합니다.\n",
    "\n",
    "# (2).\n",
    "# content의 값들에서 한글,영어,숫자,공백,특수문자가 섞여있는데\n",
    "# 어느 하나도 제외하지않고 다 넣어서 쓰는 것이 좋다고 생각하였고\n",
    "# 학습 및 정확도를 본 결과 실제로도 그러하여\n",
    "# 최종적으로, content의 값들을 제외없이 다 사용합니다."
   ]
  },
  {
   "cell_type": "code",
   "execution_count": 9,
   "metadata": {},
   "outputs": [],
   "source": [
    "### 4-1. Pos tagging\n",
    "\n",
    "stopwords = ['의','가','이','은','들','는','좀','잘','걍','과','도','를','을','으로','자','에','와','한','하다']\n",
    "\n",
    "okt = Okt()\n",
    "\n",
    "# 불용어를 설정해주고,\n",
    "# pos tagging 은 konlpy의 okt모듈을 사용합니다."
   ]
  },
  {
   "cell_type": "code",
   "execution_count": 10,
   "metadata": {},
   "outputs": [],
   "source": [
    "X_train = []\n",
    "\n",
    "for sentence in train_data['content']:\n",
    "    temp_X = []\n",
    "    temp_X = okt.morphs(sentence, stem=True) # 토큰화\n",
    "    temp_X = [word for word in temp_X if not word in stopwords] # 불용어 제거\n",
    "    X_train.append(temp_X)\n",
    "    \n",
    "# 학습용 데이터에서 독립변수로 사용할 content를 토큰화합니다."
   ]
  },
  {
   "cell_type": "code",
   "execution_count": 11,
   "metadata": {},
   "outputs": [],
   "source": [
    "X_test = []\n",
    "\n",
    "for sentence in test_data['content']:\n",
    "    temp_X = []\n",
    "    temp_X = okt.morphs(sentence, stem=True) # 토큰화\n",
    "    temp_X = [word for word in temp_X if not word in stopwords] # 불용어 제거\n",
    "    X_test.append(temp_X)\n",
    "    \n",
    "# 시험용 데이터에서 독립변수로 사용할 content를 토큰화합니다."
   ]
  },
  {
   "cell_type": "code",
   "execution_count": 12,
   "metadata": {},
   "outputs": [
    {
     "name": "stdout",
     "output_type": "stream",
     "text": [
      "[['[', '이데일리', 'MARKETPOINT', ']', '15:32', '현재', '코스닥', '기관', '678억', '순', '매도'], ['\"', '실적', '기반', '\"', '저가', '매집', '8월', '급등', '유망', '주', 'TOP', '5', '전격', '공개'], ['하', '이스', '탁론', ',', '선취', '수수료', '없다', '월', '0.4%', '최저', '금리', '상품', '출시']]\n",
      "[['마이크로', 'LED', 'TV', '장비', '양산', '돌입', '-', '전방', '업체', '투자', '확대', '로', '본업', '호조', '연일', \"'\", '신고', \"'\"], ['[', '이데일리', '김대웅', '기자', ']', '반도체', '장비', '업체', '코세', '스', '(', '089890', ')', '기술', '력', '마이크로', '발광다이오드', '(', 'LED', ')', '시대', '앞두다', '주목', '받다', '있다'], ['최근', '대형', '업체', '거래', '맺다', '관련', '장비', '양산', '돌입', '주가', '연일', '신', '고가', '달리', '고', '있다']]\n"
     ]
    }
   ],
   "source": [
    "print(X_train[:3])\n",
    "print(X_test[:3])"
   ]
  },
  {
   "cell_type": "code",
   "execution_count": 13,
   "metadata": {},
   "outputs": [],
   "source": [
    "### 4-2. Tokenizer\n",
    "\n",
    "tokenizer = Tokenizer()\n",
    "tokenizer.fit_on_texts(X_train)\n",
    "\n",
    "# 토큰화한 학습용 데이터를 사용하여 토크나이저를 만듭니다."
   ]
  },
  {
   "cell_type": "code",
   "execution_count": 14,
   "metadata": {},
   "outputs": [
    {
     "name": "stdout",
     "output_type": "stream",
     "text": [
      "{',': 1, '(': 2, '.': 3, ')': 4, '\"': 5, '있다': 6, '로': 7, '되다': 8, '+': 9, '이다': 10, '수': 11, '등': 12, '에서': 13, '..': 14, '종목': 15, '적': 16, '것': 17, '받다': 18, '인': 19, \"'\": 20, '한국': 21, '주': 22, '대\n",
      "45014\n",
      "<class 'dict'>\n"
     ]
    }
   ],
   "source": [
    "print(str(tokenizer.word_index)[:200])\n",
    "print(len(tokenizer.word_index))\n",
    "print(type(tokenizer.word_index))"
   ]
  },
  {
   "cell_type": "code",
   "execution_count": 15,
   "metadata": {},
   "outputs": [
    {
     "name": "stdout",
     "output_type": "stream",
     "text": [
      "단어 집합(vocabulary)의 크기 : 45014\n",
      "등장 빈도가 2번 이하인 희귀 단어의 수: 20467\n",
      "단어 집합에서 희귀 단어의 비율: 45.46807659839161\n",
      "전체 등장 빈도에서 희귀 단어 등장 빈도 비율: 1.1785902842413252 %\n"
     ]
    }
   ],
   "source": [
    "threshold = 3\n",
    "\n",
    "total_cnt = len(tokenizer.word_index) # 단어의 수\n",
    "rare_cnt = 0 # 등장 빈도수가 threshold보다 작은 단어의 개수를 카운트\n",
    "total_freq = 0 # 훈련 데이터의 전체 단어 빈도수 총 합\n",
    "rare_freq = 0 # 등장 빈도수가 threshold보다 작은 단어의 등장 빈도수의 총 합\n",
    "\n",
    "# 단어와 빈도수의 쌍(pair)을 key와 value로 받습니다.\n",
    "for key, value in tokenizer.word_counts.items():\n",
    "    total_freq = total_freq + value\n",
    "\n",
    "    # 단어의 등장 빈도수가 threshold보다 작으면\n",
    "    if(value < threshold):\n",
    "        rare_cnt = rare_cnt + 1\n",
    "        rare_freq = rare_freq + value\n",
    "\n",
    "print('단어 집합(vocabulary)의 크기 :',total_cnt)\n",
    "print('등장 빈도가 %s번 이하인 희귀 단어의 수: %s'%(threshold - 1, rare_cnt))\n",
    "print(\"단어 집합에서 희귀 단어의 비율:\", (rare_cnt / total_cnt)*100)\n",
    "print(\"전체 등장 빈도에서 희귀 단어 등장 빈도 비율:\", (rare_freq / total_freq)*100, \"%\")"
   ]
  },
  {
   "cell_type": "code",
   "execution_count": 16,
   "metadata": {},
   "outputs": [
    {
     "name": "stdout",
     "output_type": "stream",
     "text": [
      "단어 집합의 크기 : 24549\n"
     ]
    }
   ],
   "source": [
    "vocab_size = total_cnt - rare_cnt + 2\n",
    "print('단어 집합의 크기 :',vocab_size)\n",
    "\n",
    "# 전체 단어 개수 중 빈도수 2이하인 단어 개수는 제거하고\n",
    "# 0번 패딩 토큰과 1번 OOV 토큰을 고려하여 +2 를 해줍니다."
   ]
  },
  {
   "cell_type": "code",
   "execution_count": 17,
   "metadata": {},
   "outputs": [],
   "source": [
    "tokenizer = Tokenizer(vocab_size, oov_token = 'OOV')\n",
    "tokenizer.fit_on_texts(X_train)\n",
    "\n",
    "# 빈도수가 3이상인 단어 집합으로만 사용하여 다시 토크나이저를 만듭니다."
   ]
  },
  {
   "cell_type": "code",
   "execution_count": 36,
   "metadata": {},
   "outputs": [
    {
     "name": "stdout",
     "output_type": "stream",
     "text": [
      "{'OOV': 1, ',': 2, '(': 3, '.': 4, ')': 5, '\"': 6, '있다': 7, '로': 8, '되다': 9, '+': 10, '이다': 11, '수': 12, '등': 13, '에서': 14, '..': 15, '종목': 16, '적': 17, '것': 18, '받다': 19, '인': 20, \"'\": 21, '한국': 22, \n",
      "45015\n",
      "<class 'dict'>\n"
     ]
    }
   ],
   "source": [
    "print(str(tokenizer.word_index)[:200])\n",
    "print(len(tokenizer.word_index))\n",
    "print(type(tokenizer.word_index))"
   ]
  },
  {
   "cell_type": "code",
   "execution_count": 19,
   "metadata": {},
   "outputs": [],
   "source": [
    "X_train = tokenizer.texts_to_sequences(X_train)\n",
    "X_test = tokenizer.texts_to_sequences(X_test)\n",
    "\n",
    "# fit된 토크나이저를 사용하여 학습용과 시험용 'content'를 벡터화시켜줍니다."
   ]
  },
  {
   "cell_type": "code",
   "execution_count": 20,
   "metadata": {},
   "outputs": [
    {
     "name": "stdout",
     "output_type": "stream",
     "text": [
      "기사내용의 최대 길이 : 1149\n",
      "기사내용의 평균 길이 : 17.896888290033264\n"
     ]
    },
    {
     "data": {
      "image/png": "[encoded data removed]",
      "text/plain": [
       "<Figure size 432x288 with 1 Axes>"
      ]
     },
     "metadata": {
      "needs_background": "light"
     },
     "output_type": "display_data"
    }
   ],
   "source": [
    "### 4-3. padding\n",
    "\n",
    "# padding 값을 몇으로 해야할지 판단하기 위하여 데이터를 살펴봅니다.\n",
    "\n",
    "print('기사내용의 최대 길이 :',max(len(l) for l in X_train))\n",
    "print('기사내용의 평균 길이 :',sum(map(len, X_train))/len(X_train))\n",
    "plt.hist([len(s) for s in X_train], bins=50)\n",
    "plt.xlabel('length of samples')\n",
    "plt.ylabel('number of samples')\n",
    "plt.show()"
   ]
  },
  {
   "cell_type": "code",
   "execution_count": 21,
   "metadata": {},
   "outputs": [],
   "source": [
    "def below_threshold_len(max_len, nested_list):\n",
    "    cnt = 0\n",
    "    for s in nested_list:\n",
    "        if(len(s) <= max_len):\n",
    "            cnt = cnt + 1\n",
    "    print('전체 샘플 중 길이가 %s 이하인 샘플의 비율: %s'%(max_len, (cnt / len(nested_list))*100))"
   ]
  },
  {
   "cell_type": "code",
   "execution_count": 22,
   "metadata": {},
   "outputs": [
    {
     "name": "stdout",
     "output_type": "stream",
     "text": [
      "전체 샘플 중 길이가 40 이하인 샘플의 비율: 95.31517116510169\n"
     ]
    }
   ],
   "source": [
    "max_len = 40\n",
    "below_threshold_len(max_len, X_train)\n",
    "\n",
    "# 전체 데이터 중 길이가 40이하인 데이터의 비율이 95%이기 때문에\n",
    "# 모든 자료의 길이를 40으로 맞추겠습니다."
   ]
  },
  {
   "cell_type": "code",
   "execution_count": 23,
   "metadata": {},
   "outputs": [],
   "source": [
    "X_train = pad_sequences(X_train, maxlen = max_len)\n",
    "X_test = pad_sequences(X_test, maxlen = max_len)"
   ]
  },
  {
   "cell_type": "code",
   "execution_count": 24,
   "metadata": {},
   "outputs": [],
   "source": [
    "### 4-4. 저장 or 불러와서 사용\n",
    "\n",
    "# 토크나이저 / 처리한 학습용데이터 / 처리한 시험용데이터\n",
    "\n",
    "import pickle\n",
    "\n",
    "# saving\n",
    "with open('tokenizer.pickle', 'wb') as handle:\n",
    "    pickle.dump(tokenizer, handle, protocol=pickle.HIGHEST_PROTOCOL)\n",
    "with open('X_train.pickle', 'wb') as handle:\n",
    "    pickle.dump(X_train, handle, protocol=pickle.HIGHEST_PROTOCOL)\n",
    "with open('X_test.pickle', 'wb') as handle:\n",
    "    pickle.dump(X_test, handle, protocol=pickle.HIGHEST_PROTOCOL)\n",
    "\n",
    "# # loading\n",
    "# with open('tokenizer.pickle', 'rb') as handle:\n",
    "#     tokenizer = pickle.load(handle)\n",
    "# with open('X_train.pickle', 'rb') as handle:\n",
    "#     X_train = pickle.load(handle)\n",
    "# with open('X_test.pickle', 'rb') as handle:\n",
    "#     X_test = pickle.load(handle)"
   ]
  },
  {
   "cell_type": "markdown",
   "metadata": {},
   "source": [
    "# 5. 모델 생성"
   ]
  },
  {
   "cell_type": "code",
   "execution_count": 25,
   "metadata": {},
   "outputs": [],
   "source": [
    "y_train = np.array(train_data['info'])\n",
    "\n",
    "# 학습용 데이터의 라벨 값을 설정합니다."
   ]
  },
  {
   "cell_type": "code",
   "execution_count": 26,
   "metadata": {},
   "outputs": [],
   "source": [
    "from tensorflow.keras.layers import Embedding, Dense, LSTM, GRU\n",
    "from tensorflow.keras.models import Sequential\n",
    "from tensorflow.keras.models import load_model\n",
    "from tensorflow.keras.callbacks import EarlyStopping, ModelCheckpoint\n",
    "from tensorflow.keras.layers import Dropout"
   ]
  },
  {
   "cell_type": "code",
   "execution_count": 27,
   "metadata": {},
   "outputs": [
    {
     "name": "stdout",
     "output_type": "stream",
     "text": [
      "기사내용 단어 집합의 크기 : 24549\n"
     ]
    }
   ],
   "source": [
    "print('기사내용 단어 집합의 크기 :', vocab_size)"
   ]
  },
  {
   "cell_type": "code",
   "execution_count": 28,
   "metadata": {},
   "outputs": [],
   "source": [
    "model = Sequential()\n",
    "model.add(Embedding(vocab_size, 100))\n",
    "model.add(GRU(128, return_sequences=True))\n",
    "model.add(GRU(128, return_sequences=False))\n",
    "model.add(Dense(32, activation='relu'))\n",
    "model.add(Dense(1, activation='sigmoid'))"
   ]
  },
  {
   "cell_type": "code",
   "execution_count": 29,
   "metadata": {},
   "outputs": [],
   "source": [
    "es = EarlyStopping(monitor='val_loss', mode='min', verbose=1, patience=4)\n",
    "mc = ModelCheckpoint('nlp_model.h5', monitor='val_acc', mode='max', verbose=1, save_best_only=True)\n",
    "\n",
    "# 체크포인트와 함께 nlp_model.h5 라는 모델을 저장합니다."
   ]
  },
  {
   "cell_type": "code",
   "execution_count": 30,
   "metadata": {},
   "outputs": [
    {
     "name": "stdout",
     "output_type": "stream",
     "text": [
      "Epoch 1/15\n",
      "WARNING:tensorflow:AutoGraph could not transform <function Model.make_train_function.<locals>.train_function at 0x0000018CCA6561E0> and will run it as-is.\n",
      "Please report this to the TensorFlow team. When filing the bug, set the verbosity to 10 (on Linux, `export AUTOGRAPH_VERBOSITY=10`) and attach the full output.\n",
      "Cause: 'arguments' object has no attribute 'posonlyargs'\n",
      "To silence this warning, decorate the function with @tf.autograph.experimental.do_not_convert\n",
      "WARNING: AutoGraph could not transform <function Model.make_train_function.<locals>.train_function at 0x0000018CCA6561E0> and will run it as-is.\n",
      "Please report this to the TensorFlow team. When filing the bug, set the verbosity to 10 (on Linux, `export AUTOGRAPH_VERBOSITY=10`) and attach the full output.\n",
      "Cause: 'arguments' object has no attribute 'posonlyargs'\n",
      "To silence this warning, decorate the function with @tf.autograph.experimental.do_not_convert\n",
      "1484/1485 [============================>.] - ETA: 0s - loss: 0.0723 - acc: 0.9728WARNING:tensorflow:AutoGraph could not transform <function Model.make_test_function.<locals>.test_function at 0x0000018CC15FEB70> and will run it as-is.\n",
      "Please report this to the TensorFlow team. When filing the bug, set the verbosity to 10 (on Linux, `export AUTOGRAPH_VERBOSITY=10`) and attach the full output.\n",
      "Cause: 'arguments' object has no attribute 'posonlyargs'\n",
      "To silence this warning, decorate the function with @tf.autograph.experimental.do_not_convert\n",
      "WARNING: AutoGraph could not transform <function Model.make_test_function.<locals>.test_function at 0x0000018CC15FEB70> and will run it as-is.\n",
      "Please report this to the TensorFlow team. When filing the bug, set the verbosity to 10 (on Linux, `export AUTOGRAPH_VERBOSITY=10`) and attach the full output.\n",
      "Cause: 'arguments' object has no attribute 'posonlyargs'\n",
      "To silence this warning, decorate the function with @tf.autograph.experimental.do_not_convert\n",
      "\n",
      "Epoch 00001: val_acc improved from -inf to 0.98552, saving model to nlp_model.h5\n",
      "1485/1485 [==============================] - 46s 31ms/step - loss: 0.0723 - acc: 0.9728 - val_loss: 0.0381 - val_acc: 0.9855\n",
      "Epoch 2/15\n",
      "1485/1485 [==============================] - ETA: 0s - loss: 0.0414 - acc: 0.9850\n",
      "Epoch 00002: val_acc did not improve from 0.98552\n",
      "1485/1485 [==============================] - 43s 29ms/step - loss: 0.0414 - acc: 0.9850 - val_loss: 0.0525 - val_acc: 0.9763\n",
      "Epoch 3/15\n",
      "1484/1485 [============================>.] - ETA: 0s - loss: 0.0321 - acc: 0.9884\n",
      "Epoch 00003: val_acc did not improve from 0.98552\n",
      "1485/1485 [==============================] - 43s 29ms/step - loss: 0.0321 - acc: 0.9884 - val_loss: 0.0279 - val_acc: 0.9855\n",
      "Epoch 4/15\n",
      "1483/1485 [============================>.] - ETA: 0s - loss: 0.0262 - acc: 0.9907\n",
      "Epoch 00004: val_acc did not improve from 0.98552\n",
      "1485/1485 [==============================] - 43s 29ms/step - loss: 0.0263 - acc: 0.9907 - val_loss: 0.0500 - val_acc: 0.9786\n",
      "Epoch 5/15\n",
      "1485/1485 [==============================] - ETA: 0s - loss: 0.0215 - acc: 0.9925\n",
      "Epoch 00005: val_acc did not improve from 0.98552\n",
      "1485/1485 [==============================] - 43s 29ms/step - loss: 0.0215 - acc: 0.9925 - val_loss: 0.0487 - val_acc: 0.9789\n",
      "Epoch 6/15\n",
      "1484/1485 [============================>.] - ETA: 0s - loss: 0.0177 - acc: 0.9938\n",
      "Epoch 00006: val_acc improved from 0.98552 to 0.98585, saving model to nlp_model.h5\n",
      "1485/1485 [==============================] - 42s 28ms/step - loss: 0.0177 - acc: 0.9938 - val_loss: 0.0303 - val_acc: 0.9859\n",
      "Epoch 7/15\n",
      "1485/1485 [==============================] - ETA: 0s - loss: 0.0139 - acc: 0.9952\n",
      "Epoch 00007: val_acc did not improve from 0.98585\n",
      "1485/1485 [==============================] - 42s 28ms/step - loss: 0.0139 - acc: 0.9952 - val_loss: 0.0565 - val_acc: 0.9803\n",
      "Epoch 00007: early stopping\n"
     ]
    }
   ],
   "source": [
    "model.compile(optimizer='rmsprop', loss='binary_crossentropy', metrics=['acc'])\n",
    "\n",
    "history = model.fit(X_train, y_train, epochs=15, callbacks=[es, mc], batch_size=64, validation_split=0.2)"
   ]
  },
  {
   "cell_type": "code",
   "execution_count": 31,
   "metadata": {},
   "outputs": [],
   "source": [
    "loaded_model = load_model('nlp_model.h5')"
   ]
  },
  {
   "cell_type": "code",
   "execution_count": 32,
   "metadata": {},
   "outputs": [
    {
     "name": "stdout",
     "output_type": "stream",
     "text": [
      "WARNING:tensorflow:AutoGraph could not transform <function Model.make_test_function.<locals>.test_function at 0x0000018CCA6BD840> and will run it as-is.\n",
      "Please report this to the TensorFlow team. When filing the bug, set the verbosity to 10 (on Linux, `export AUTOGRAPH_VERBOSITY=10`) and attach the full output.\n",
      "Cause: 'arguments' object has no attribute 'posonlyargs'\n",
      "To silence this warning, decorate the function with @tf.autograph.experimental.do_not_convert\n",
      "WARNING: AutoGraph could not transform <function Model.make_test_function.<locals>.test_function at 0x0000018CCA6BD840> and will run it as-is.\n",
      "Please report this to the TensorFlow team. When filing the bug, set the verbosity to 10 (on Linux, `export AUTOGRAPH_VERBOSITY=10`) and attach the full output.\n",
      "Cause: 'arguments' object has no attribute 'posonlyargs'\n",
      "To silence this warning, decorate the function with @tf.autograph.experimental.do_not_convert\n",
      "3711/3711 [==============================] - 17s 5ms/step - loss: 0.0159 - acc: 0.9937\n",
      "\n",
      " 훈련 정확도: 0.993726\n"
     ]
    }
   ],
   "source": [
    "print(\"\\n 훈련 정확도: %f\" % (loaded_model.evaluate(X_train, y_train)[1]))"
   ]
  },
  {
   "cell_type": "code",
   "execution_count": 33,
   "metadata": {},
   "outputs": [
    {
     "name": "stdout",
     "output_type": "stream",
     "text": [
      "WARNING:tensorflow:AutoGraph could not transform <function Model.make_predict_function.<locals>.predict_function at 0x0000018CD76DE2F0> and will run it as-is.\n",
      "Please report this to the TensorFlow team. When filing the bug, set the verbosity to 10 (on Linux, `export AUTOGRAPH_VERBOSITY=10`) and attach the full output.\n",
      "Cause: 'arguments' object has no attribute 'posonlyargs'\n",
      "To silence this warning, decorate the function with @tf.autograph.experimental.do_not_convert\n",
      "WARNING: AutoGraph could not transform <function Model.make_predict_function.<locals>.predict_function at 0x0000018CD76DE2F0> and will run it as-is.\n",
      "Please report this to the TensorFlow team. When filing the bug, set the verbosity to 10 (on Linux, `export AUTOGRAPH_VERBOSITY=10`) and attach the full output.\n",
      "Cause: 'arguments' object has no attribute 'posonlyargs'\n",
      "To silence this warning, decorate the function with @tf.autograph.experimental.do_not_convert\n"
     ]
    },
    {
     "data": {
      "text/plain": [
       "array([[2.6463524e-01],\n",
       "       [7.7164814e-06],\n",
       "       [8.5678485e-06],\n",
       "       ...,\n",
       "       [9.9999964e-01],\n",
       "       [9.9999976e-01],\n",
       "       [9.9999976e-01]], dtype=float32)"
      ]
     },
     "execution_count": 33,
     "metadata": {},
     "output_type": "execute_result"
    }
   ],
   "source": [
    "loaded_model.predict(X_test)\n",
    "\n",
    "# 시험용 데이터에 대한 예측값을 만듭니다."
   ]
  },
  {
   "cell_type": "markdown",
   "metadata": {},
   "source": [
    "# 6. 제출용 값 만들기"
   ]
  },
  {
   "cell_type": "code",
   "execution_count": 34,
   "metadata": {},
   "outputs": [],
   "source": [
    "y_test = loaded_model.predict(X_test)"
   ]
  },
  {
   "cell_type": "code",
   "execution_count": 35,
   "metadata": {},
   "outputs": [],
   "source": [
    "y_test_1 = [1 if i else 0 for i in list(y_test >= 0.6)]\n",
    "result_1 = pd.DataFrame(test_data['id'])\n",
    "result_1['info'] = y_test_1\n",
    "result_1.to_csv('result_1.csv', sep=',', na_rep='NaN', encoding='UTF-8', index=False)\n",
    "\n",
    "# 0.6이상인 값은 1로, 0.6미만인 값은 0으로 만든 후에 데이터프레임을 생성하여\n",
    "# csv파일을 만듭니다.\n",
    "# (0.5를 기준으로 하는 것보다 정확도가 더 높기 때문에 0.6을 기준으로 하였습니다.)"
   ]
  }
 ],
 "metadata": {
  "kernelspec": {
   "display_name": "Python 3",
   "language": "python",
   "name": "python3"
  },
  "language_info": {
   "codemirror_mode": {
    "name": "ipython",
    "version": 3
   },
   "file_extension": ".py",
   "mimetype": "text/x-python",
   "name": "python",
   "nbconvert_exporter": "python",
   "pygments_lexer": "ipython3",
   "version": "3.6.10"
  }
 },
 "nbformat": 4,
 "nbformat_minor": 4
}
